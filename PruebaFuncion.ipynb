{
 "cells": [
  {
   "cell_type": "code",
   "execution_count": 8,
   "id": "245f2ced-9fd5-41bf-a596-d7446b64b055",
   "metadata": {},
   "outputs": [],
   "source": [
    "def tablaSuma(nro1, nro2):\n",
    "    return nro1 + nro2;    "
   ]
  },
  {
   "cell_type": "code",
   "execution_count": 27,
   "id": "6009d505-1b09-4159-bec3-df8ced108f88",
   "metadata": {},
   "outputs": [],
   "source": [
    "def tablaResta(nro1, nro2):\n",
    "    print (nro1 - nro2)"
   ]
  },
  {
   "cell_type": "code",
   "execution_count": 25,
   "id": "3f5c4c5e-4988-4df1-a59a-1f13420da29b",
   "metadata": {},
   "outputs": [],
   "source": [
    "def tablaMultiplicacion(nro5, nro6):\n",
    "    print (\"La multiplicación: \", (nro5 * nro6))"
   ]
  },
  {
   "cell_type": "code",
   "execution_count": 19,
   "id": "b02b0a6a-b611-4f96-9ed0-cf3109041a2f",
   "metadata": {},
   "outputs": [],
   "source": [
    "def tablaDivision():\n",
    "    print(\"La división es: \", (nro1 // nro2))"
   ]
  },
  {
   "cell_type": "code",
   "execution_count": 28,
   "id": "ec7dc403-bbfe-4ea6-854c-5549564aa32c",
   "metadata": {
    "scrolled": true
   },
   "outputs": [
    {
     "name": "stdout",
     "output_type": "stream",
     "text": [
      "8\n",
      "La multiplicación:  12\n",
      "La división es:  3\n"
     ]
    }
   ],
   "source": [
    "# Variables globales\n",
    "nro1 = 45\n",
    "nro2 = 15\n",
    "#print(nro1 + nro2)\n",
    "\n",
    "tablaSuma(3, 7)\n",
    "tablaResta(10, 2)\n",
    "tablaMultiplicacion(4,3)\n",
    "tablaDivision()"
   ]
  },
  {
   "cell_type": "code",
   "execution_count": null,
   "id": "a820766e-07c9-4a04-bc63-d8fbae8a5bb4",
   "metadata": {},
   "outputs": [],
   "source": []
  }
 ],
 "metadata": {
  "kernelspec": {
   "display_name": "Python 3 (ipykernel)",
   "language": "python",
   "name": "python3"
  },
  "language_info": {
   "codemirror_mode": {
    "name": "ipython",
    "version": 3
   },
   "file_extension": ".py",
   "mimetype": "text/x-python",
   "name": "python",
   "nbconvert_exporter": "python",
   "pygments_lexer": "ipython3",
   "version": "3.11.3"
  }
 },
 "nbformat": 4,
 "nbformat_minor": 5
}
