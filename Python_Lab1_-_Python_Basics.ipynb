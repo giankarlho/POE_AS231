{
 "cells": [
  {
   "cell_type": "markdown",
   "metadata": {
    "id": "fYCWRw6k3XAo"
   },
   "source": [
    "<a href=\"https://www.vallegrande.edu.pe\"><img src = \"https://encrypted-tbn0.gstatic.com/images?q=tbn:ANd9GcRIyJUeI5SvesB6z8V3AQo7OkGQXdyh8qvyikcASjTPYPwn08ptVG1Uh_zemOl48Wntaho&usqp=CAU\" width = 100, align = \"center\"></a>\n",
    "\n",
    "<h1 align=center><font size = 5>Conceptos Básicos</font></h1> "
   ]
  },
  {
   "cell_type": "markdown",
   "metadata": {
    "id": "CzxG7hrs3XAp"
   },
   "source": [
    "## Table of Contents\n",
    "\n",
    "\n",
    "<div class=\"alert alert-block alert-info\" style=\"margin-top: 20px\">\n",
    "<li><a href=\"#ref1\">Simple Math in Python</a></li>\n",
    "<li><a href=\"#ref2\">Variables in Python</a></li>\n",
    "<li><a href=\"#ref1a\">Quiz on Simple Math and Variables in Python</a></li>\n",
    "<li><a href=\"#ref9\">Strings in Python</a></li>\n",
    "<li><a href=\"#ref10\">Quiz on Strings</a></li>\n",
    "\n",
    "<br>\n",
    "\n",
    "</div>\n",
    "\n",
    "<hr>"
   ]
  },
  {
   "cell_type": "markdown",
   "metadata": {
    "id": "VFe70t6N3XAq"
   },
   "source": [
    "<hr>"
   ]
  },
  {
   "cell_type": "markdown",
   "metadata": {
    "id": "pZ3RcMXm3XAq"
   },
   "source": [
    "<a id=\"ref1\"></a>\n",
    "<h2 align=center> Simple Math in Python </h2>"
   ]
  },
  {
   "cell_type": "markdown",
   "metadata": {
    "id": "5pT7JpK63XAq"
   },
   "source": [
    "<div class=\"alert alert-success alertsuccess\" style=\"margin-top: 20px\">\n",
    "**Tip**: To run the grey code cell below, click on it, and press Shift + Enter.\n",
    "</div>"
   ]
  },
  {
   "cell_type": "code",
   "execution_count": null,
   "metadata": {
    "id": "Zde2OJ-Z3XAr"
   },
   "outputs": [],
   "source": [
    "43 + 60 + 16 + 41"
   ]
  },
  {
   "cell_type": "markdown",
   "metadata": {
    "id": "1O8OFWU83XAr"
   },
   "source": [
    "Great! You've determined that the total number of album play time is **160 min**.  "
   ]
  },
  {
   "cell_type": "markdown",
   "metadata": {
    "id": "WkUqXJwh3XAr"
   },
   "source": [
    "**What is 160 min in hours?**"
   ]
  },
  {
   "cell_type": "code",
   "execution_count": null,
   "metadata": {
    "id": "y0kY66BR3XAr"
   },
   "outputs": [],
   "source": [
    "160.0 / 60.0"
   ]
  },
  {
   "cell_type": "markdown",
   "metadata": {
    "id": "JGHR7epA5Hhh"
   },
   "source": [
    "47) Dado un tiempo en minutos, calcula los días, las horas y minutos que corresponde."
   ]
  },
  {
   "cell_type": "code",
   "execution_count": null,
   "metadata": {
    "colab": {
     "base_uri": "https://localhost:8080/"
    },
    "executionInfo": {
     "elapsed": 9886,
     "status": "ok",
     "timestamp": 1623345629155,
     "user": {
      "displayName": "Jeancarlos Omar PADILLA CASTILLO",
      "photoUrl": "https://lh3.googleusercontent.com/a-/AOh14GjW7rzyXer8eCtOnuqEOhhczi_e6-6f_I3rEL1h=s64",
      "userId": "01035006871451783065"
     },
     "user_tz": 300
    },
    "id": "osaSH9vq5ulQ",
    "outputId": "a7edd856-a5f9-4368-d97a-e02b573ca60a"
   },
   "outputs": [
    {
     "name": "stdout",
     "output_type": "stream",
     "text": [
      "Ing. el tiemp700000\n"
     ]
    }
   ],
   "source": [
    "cantminutos=int(input('Ing. el tiemp'))"
   ]
  },
  {
   "cell_type": "code",
   "execution_count": null,
   "metadata": {
    "colab": {
     "base_uri": "https://localhost:8080/"
    },
    "executionInfo": {
     "elapsed": 484,
     "status": "ok",
     "timestamp": 1623345636903,
     "user": {
      "displayName": "Jeancarlos Omar PADILLA CASTILLO",
      "photoUrl": "https://lh3.googleusercontent.com/a-/AOh14GjW7rzyXer8eCtOnuqEOhhczi_e6-6f_I3rEL1h=s64",
      "userId": "01035006871451783065"
     },
     "user_tz": 300
    },
    "id": "Bz_st_7p5_Ar",
    "outputId": "79fe9d1a-ceff-4e54-e148-1bbb64da28bd"
   },
   "outputs": [
    {
     "name": "stdout",
     "output_type": "stream",
     "text": [
      "el tiempo ingresado en dias es: 486\n",
      "el tiempo ingresado en horas es: 11666.666666666666\n"
     ]
    }
   ],
   "source": [
    "dias=cantminutos//1440\n",
    "horas=cantminutos/60\n",
    "print('el tiempo ingresado en dias es:',dias)\n",
    "print('el tiempo ingresado en horas es:',horas)"
   ]
  },
  {
   "cell_type": "markdown",
   "metadata": {
    "id": "12Y7bOPc5DBZ"
   },
   "source": []
  },
  {
   "cell_type": "markdown",
   "metadata": {
    "id": "Ncf7TUZr3XAs"
   },
   "source": [
    "Well, it looks like it's well **over 2 hours**, which means you can't listen to *Thriller*, *Saturday Night Fever* and *Rumours* back-to-back without missing out on some of the songs!"
   ]
  },
  {
   "cell_type": "markdown",
   "metadata": {
    "id": "-pdHE0lp3XAs"
   },
   "source": [
    "Album 1 is 2 hours, album 2 is 30 minutes what is the total length of both albums in minutes.    "
   ]
  },
  {
   "cell_type": "code",
   "execution_count": null,
   "metadata": {
    "id": "EJ968orE3XAs",
    "outputId": "976388df-615f-4009-fe2a-978441fdfe09"
   },
   "outputs": [
    {
     "data": {
      "text/plain": [
       "150"
      ]
     },
     "execution_count": 1,
     "metadata": {
      "tags": []
     },
     "output_type": "execute_result"
    }
   ],
   "source": [
    " 2*60+30"
   ]
  },
  {
   "cell_type": "markdown",
   "metadata": {
    "id": "2uabUwxN3XAs"
   },
   "source": [
    "<a ><img src = \"https://ibm.box.com/shared/static/cc7z5xbg4sorawqye2izp4douptopc1x.gif\" width = 500, align = \"center\"></a>"
   ]
  },
  {
   "cell_type": "markdown",
   "metadata": {
    "id": "2ppLZitS3XAs"
   },
   "source": [
    "<div class=\"alert alert-success alertsuccess\" style=\"margin-top: 20px\">\n",
    "<h4> [Tip] Simple math in Python </h4>\n",
    "<p></p>\n",
    "You can do a variety of mathematical operations in Python including:  \n",
    "<li> addition: **2 + 2** </li>\n",
    "<li> subtraction: **5 - 2** </li>\n",
    "<li> multiplication: **3 \\* 2** </li>\n",
    "<li> division: **4 / 2** </li>\n",
    "<li> exponentiation: **4 \\*\\* 2** </li>\n",
    "</div>"
   ]
  },
  {
   "cell_type": "markdown",
   "metadata": {
    "id": "MOR6D3pq3XAs"
   },
   "source": [
    "<a id=\"ref2\"></a>\n",
    "<h2 align=center> Variables in Python </h2>"
   ]
  },
  {
   "cell_type": "markdown",
   "metadata": {
    "id": "jYpMtMJu3XAs"
   },
   "source": [
    "We can also **store** our output in **variables**, so we can use them later on. For example:"
   ]
  },
  {
   "cell_type": "code",
   "execution_count": null,
   "metadata": {
    "collapsed": true,
    "id": "V2yvwSUS3XAs"
   },
   "outputs": [],
   "source": [
    "x = 43 + 60 + 16 + 41"
   ]
  },
  {
   "cell_type": "markdown",
   "metadata": {
    "id": "UXshWAiM3XAt"
   },
   "source": [
    "To return the value of **`x`**, we can simply run the variable as a command:"
   ]
  },
  {
   "cell_type": "code",
   "execution_count": null,
   "metadata": {
    "id": "2CsqfdVj3XAt"
   },
   "outputs": [],
   "source": [
    "x"
   ]
  },
  {
   "cell_type": "markdown",
   "metadata": {
    "id": "fTOUE5vl3XAt"
   },
   "source": [
    "We can also perform operations on **`x`** and save the result to a **new variable**:"
   ]
  },
  {
   "cell_type": "code",
   "execution_count": null,
   "metadata": {
    "id": "7L06fcYW3XAt"
   },
   "outputs": [],
   "source": [
    "y = x / 60\n",
    "y"
   ]
  },
  {
   "cell_type": "markdown",
   "metadata": {
    "id": "fdb1ipTX3XAt"
   },
   "source": [
    "If we save something to an **existing variable**, it will **overwrite** the previous value:"
   ]
  },
  {
   "cell_type": "code",
   "execution_count": null,
   "metadata": {
    "id": "yl920AYE3XAt"
   },
   "outputs": [],
   "source": [
    "x = x / 60\n",
    "x"
   ]
  },
  {
   "cell_type": "markdown",
   "metadata": {
    "id": "qlfvDSaz3XAu"
   },
   "source": [
    "It's good practice to use **meaningful variable names**, so you don't have to keep track of what variable is what:"
   ]
  },
  {
   "cell_type": "code",
   "execution_count": null,
   "metadata": {
    "id": "bB63hRuV3XAv"
   },
   "outputs": [],
   "source": [
    "total_min = 43 + 60 + 16 + 41\n",
    "total_min"
   ]
  },
  {
   "cell_type": "code",
   "execution_count": null,
   "metadata": {
    "id": "N_3HPnNg3XAv"
   },
   "outputs": [],
   "source": [
    "total_hr = total_min / 60  \n",
    "total_hr"
   ]
  },
  {
   "cell_type": "markdown",
   "metadata": {
    "id": "F_-E_Yid3XAv"
   },
   "source": [
    "You can put this all into a single expression, but remember to use **round brackets** to add together the album lengths first, before dividing by 60."
   ]
  },
  {
   "cell_type": "code",
   "execution_count": null,
   "metadata": {
    "id": "097kwFBG3XAv"
   },
   "outputs": [],
   "source": [
    "total_hr = (43 + 60 + 16 + 41) / 60  # get total hours in a single expression\n",
    "total_hr"
   ]
  },
  {
   "cell_type": "markdown",
   "metadata": {
    "id": "DRX3Ek6w3XAw"
   },
   "source": [
    "<hr></hr>\n",
    "<div class=\"alert alert-success alertsuccess\" style=\"margin-top: 0px\">\n",
    "<h4> [Tip] Variables in Python </h4>\n",
    "<p></p>\n",
    "As you just learned, you can use **variables** to store values for repeated use. Here are some more **characteristics of variables in Python**:\n",
    "<li>variables store the output of a block of code </li>\n",
    "<li>variables are typically assigned using **=** (as in **x = 1**) </li>\n",
    "<p></p>\n",
    "</div>\n",
    "<hr></hr>"
   ]
  },
  {
   "cell_type": "markdown",
   "metadata": {
    "id": "Umuke9sV3XAx"
   },
   "source": [
    "#### 1) What is the value of y ? <p> y=(3+2)*2</p>"
   ]
  },
  {
   "cell_type": "markdown",
   "metadata": {
    "id": "ylVKyQHp3XAx"
   },
   "source": [
    "<div align=\"right\">\n",
    "<a href=\"#SM2\" class=\"btn btn-default\" data-toggle=\"collapse\">Click here for the solution</a>\n",
    "\n",
    "</div>\n",
    "<div id=\"SM2\" class=\"collapse\">\n",
    "```\n",
    "10\n",
    "```\n",
    "</div>\n"
   ]
  },
  {
   "cell_type": "markdown",
   "metadata": {
    "id": "o2f8B7Xa3XAx"
   },
   "source": [
    "#### 2) What is the value of z ? <p> z=x+y</p>"
   ]
  },
  {
   "cell_type": "markdown",
   "metadata": {
    "id": "c7zrdX5l3XAx"
   },
   "source": [
    "<div align=\"right\">\n",
    "<a href=\"#SM3\" class=\"btn btn-default\" data-toggle=\"collapse\">Click here for the solution</a>\n",
    "\n",
    "</div>\n",
    "<div id=\"SM3\" class=\"collapse\">\n",
    "```\n",
    "17\n",
    "```\n",
    "</div>"
   ]
  },
  {
   "cell_type": "markdown",
   "metadata": {
    "id": "X6bvnxYv3XAx"
   },
   "source": [
    "<hr></hr>\n",
    "<div class=\"alert alert-success alertsuccess\" style=\"margin-top: 20px\">\n",
    "<h4> [Tip] # Comments</h4>  \n",
    "\n",
    "Did you notice the **comment** after the **total_hr = (43 + 60 + 16 + 41) / 60 ** above? Comments are very useful in describing your code. You can create your own comments by using the **#** symbol and writing your comment after it. Python will interpret it as a comment, not as code.\n",
    "\n",
    "<p></p>\n",
    "</div>\n",
    "<hr></hr>"
   ]
  },
  {
   "cell_type": "markdown",
   "metadata": {
    "id": "qxqLn2jE3XAx"
   },
   "source": [
    "<a id=\"ref10\"></a>\n",
    "<h2 align=center>Strings in Python</h2>"
   ]
  },
  {
   "cell_type": "markdown",
   "metadata": {
    "id": "_C0N93qy3XAx"
   },
   "source": [
    "Python isn't just about numbers -- we can also have strings too. For example:"
   ]
  },
  {
   "cell_type": "code",
   "execution_count": null,
   "metadata": {
    "id": "V8_IokNc3XAx",
    "outputId": "c68b0f1c-f55b-432f-b848-6c2a2748fcc0"
   },
   "outputs": [
    {
     "data": {
      "text/plain": [
       "'Thriller'"
      ]
     },
     "execution_count": 1,
     "metadata": {
      "tags": []
     },
     "output_type": "execute_result"
    }
   ],
   "source": [
    "album = \"Thriller\"\n",
    "album"
   ]
  },
  {
   "cell_type": "markdown",
   "metadata": {
    "id": "RKDbsf-E3XAy"
   },
   "source": [
    "In Python, you can identify **Strings** when they are wrapped with **matching double (\") or single (') quotes**."
   ]
  },
  {
   "cell_type": "markdown",
   "metadata": {
    "id": "_os49kVI3XAy"
   },
   "source": [
    "Let's create a **String array** for the following **genres**:\n",
    "- Punk\n",
    "- Big Band\n",
    "- Country\n",
    "- Dance\n",
    "- Folk\n",
    "- Funk"
   ]
  },
  {
   "cell_type": "code",
   "execution_count": null,
   "metadata": {
    "id": "aPFeOJao3XAy",
    "scrolled": true
   },
   "outputs": [],
   "source": [
    "genres = [\"Punk\", \"Big Band\", \"Country\", \"Dance\", \"Folk\", \"Funk\"] \n",
    "genres"
   ]
  },
  {
   "cell_type": "markdown",
   "metadata": {
    "id": "yzZ4cKP-3XA1"
   },
   "source": [
    "<hr>\n",
    "Copyright &copy; 2022 Monitor: Giancarlo Valencia Sotomayor gvalencia@vallegrande.edu.pe 😎"
   ]
  }
 ],
 "metadata": {
  "colab": {
   "name": "Python_Lab1_-_Python_Basics.ipynb",
   "provenance": []
  },
  "kernelspec": {
   "display_name": "Python 3.9.4 64-bit",
   "name": "python394jvsc74a57bd076da5625d405fa70fa1c1c5e3a7c0425d290a1af8e4d63dae805595e14c965e1"
  },
  "language_info": {
   "codemirror_mode": {
    "name": "ipython",
    "version": 3
   },
   "file_extension": ".py",
   "mimetype": "text/x-python",
   "name": "python",
   "nbconvert_exporter": "python",
   "pygments_lexer": "ipython3",
   "version": "3.9.4"
  }
 },
 "nbformat": 4,
 "nbformat_minor": 1
}
